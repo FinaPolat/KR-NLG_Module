{
  "nbformat": 4,
  "nbformat_minor": 0,
  "metadata": {
    "colab": {
      "name": "Building Narratives from Knowledge Graphs Part1.ipynb",
      "provenance": []
    },
    "kernelspec": {
      "name": "python3",
      "display_name": "Python 3"
    },
    "language_info": {
      "name": "python"
    }
  },
  "cells": [
    {
      "cell_type": "markdown",
      "source": [
        "#KRW Group Project: Building Narratives from Knowledge Graphs\n",
        "##Group number: P5-2\n",
        "###Group members: Fina Polat, Hein Kolk, Jelle Wassenaar, Siddharth Chaubal\n",
        "\n",
        "This is the first notebook of a series of 3.\n",
        "\n",
        "Research goal: We are a newspaper agency and want to develop a system to create articles semi-automatically. The goal is to create a newspaper story using information from existing KGs, and to help readers better understanding the content/setting of the story (e.g. visualise a timeline to understand big events and actors in a political or historical event, summarising a movie or the life of someone, etc.).\n",
        "\n",
        "We are going to generate a gossip story using T5 language model (LM). In order to do that we are going to:\n",
        "* pre-process WebNLG Dataset - Part 1\n",
        "* fine-tune T5 language model with WebNLG Dataset. - Part 2\n",
        "* automatically generate stories (template + automatically generated text) - Part 3\n",
        "\n",
        "The WebNLG data (Gardent el al., 2017) was created to promote the development (i) of RDF verbalisers and (ii) of microplanners able to handle a wide range of linguistic constructions.\n",
        "\n",
        "T5 Language Model : Colin Raffel et al. “Exploring the limits of transfer learning with a unified\n",
        "text-to-text transformer”. In: arXiv preprint arXiv:1910.10683 (2019).\n",
        "\n",
        "The code in this notebook is adapted from https://github.com/MathewAlexander/T5_nlg"
      ],
      "metadata": {
        "id": "Zhz-ulHKoVqS"
      }
    },
    {
      "cell_type": "code",
      "execution_count": null,
      "metadata": {
        "id": "k_4ZhIlAmf8Z"
      },
      "outputs": [],
      "source": [
        "### import the required libraries ###\n",
        "\n",
        "import pandas as pd\n",
        "import os"
      ]
    },
    {
      "cell_type": "code",
      "source": [
        "import os\n",
        "from google.colab import drive\n",
        "MOUNTPOINT = '/content/gdrive'\n",
        "DATADIR = os.path.join(MOUNTPOINT, 'My Drive', 'KRW_P5-2')\n",
        "drive.mount(MOUNTPOINT)"
      ],
      "metadata": {
        "colab": {
          "base_uri": "https://localhost:8080/"
        },
        "id": "aFokI5zmzUoB",
        "outputId": "1b0dfebe-b067-4fc3-f239-6c5a5ded47b5"
      },
      "execution_count": null,
      "outputs": [
        {
          "output_type": "stream",
          "name": "stdout",
          "text": [
            "Mounted at /content/gdrive\n"
          ]
        }
      ]
    },
    {
      "cell_type": "code",
      "source": [
        "print(DATADIR)"
      ],
      "metadata": {
        "colab": {
          "base_uri": "https://localhost:8080/"
        },
        "id": "oKz1M-6Qzbha",
        "outputId": "5d7fd283-adb5-4aee-9116-f3505ec3d83a"
      },
      "execution_count": null,
      "outputs": [
        {
          "output_type": "stream",
          "name": "stdout",
          "text": [
            "/content/gdrive/My Drive/KRW_P5-2\n"
          ]
        }
      ]
    },
    {
      "cell_type": "code",
      "source": [
        "import urllib.request\n",
        "import zipfile\n",
        "url = 'https://gitlab.com/shimorina/webnlg-dataset/-/archive/master/webnlg-dataset-master.zip?path=release_v3.0/en/train'\n",
        "urllib.request.urlretrieve(url, 'web.zip')\n",
        "with zipfile.ZipFile('web.zip', 'r') as zip_ref:\n",
        "    zip_ref.extractall('web')\n",
        "import glob\n",
        "import os\n",
        "import re\n",
        "import xml.etree.ElementTree as ET\n",
        "import pandas as pd\n",
        "files = glob.glob(\"/content/web/webnlg-dataset-master-release_v3.0-en-train/release_v3.0/en/train/**/*.xml\", recursive=True)\n",
        "triple_re=re.compile('(\\d)triples')\n",
        "data_dct={}\n",
        "for file in files:\n",
        "    tree = ET.parse(file)\n",
        "    root = tree.getroot()\n",
        "    triples_num=int(triple_re.findall(file)[0])\n",
        "    for sub_root in root:\n",
        "        for ss_root in sub_root:\n",
        "            strutured_master=[]\n",
        "            unstructured=[]\n",
        "            for entry in ss_root:\n",
        "                unstructured.append(entry.text)\n",
        "                strutured=[triple.text for triple in entry]\n",
        "                strutured_master.extend(strutured)\n",
        "            unstructured=[i for i in unstructured if i.replace('\\n','').strip()!='' ]\n",
        "            strutured_master=strutured_master[-triples_num:]\n",
        "            strutured_master_str=(' && ').join(strutured_master)\n",
        "            data_dct[strutured_master_str]=unstructured\n",
        "mdata_dct={\"prefix\":[], \"input_text\":[], \"target_text\":[]}\n",
        "for st,unst in data_dct.items():\n",
        "    for i in unst:\n",
        "        mdata_dct['prefix'].append('webNLG')\n",
        "        mdata_dct['input_text'].append(st)\n",
        "        mdata_dct['target_text'].append(i)\n",
        "\n",
        "\n",
        "df=pd.DataFrame(mdata_dct)\n",
        "df.to_csv('/content/gdrive/My Drive/KRW_P5-2/webNLG2020_train.csv')"
      ],
      "metadata": {
        "id": "wDjrb6BpzcoG"
      },
      "execution_count": null,
      "outputs": []
    },
    {
      "cell_type": "code",
      "source": [
        "#Lets check the file:\n",
        "train_df=pd.read_csv('/content/gdrive/My Drive/KRW_P5-2/webNLG2020_train.csv', index_col=[0])\n",
        "#Let's inspect the dataset:\n",
        "train_df.head"
      ],
      "metadata": {
        "colab": {
          "base_uri": "https://localhost:8080/"
        },
        "id": "F_8jqh1kzoVV",
        "outputId": "8824d077-0801-4ae4-99a1-3418b1b9eff1"
      },
      "execution_count": null,
      "outputs": [
        {
          "output_type": "execute_result",
          "data": {
            "text/plain": [
              "<bound method NDFrame.head of        prefix                                         input_text  \\\n",
              "0      webNLG  103_Colmore_Row | architect | John_Madin && 10...   \n",
              "1      webNLG  103_Colmore_Row | architect | John_Madin && 10...   \n",
              "2      webNLG  103_Colmore_Row | architect | John_Madin && 10...   \n",
              "3      webNLG  103_Colmore_Row | architect | John_Madin && 10...   \n",
              "4      webNLG  103_Colmore_Row | architect | John_Madin && 10...   \n",
              "...       ...                                                ...   \n",
              "35205  webNLG  Turkey | leaderTitle | President_of_Turkey && ...   \n",
              "35206  webNLG  Turkey | leaderTitle | President_of_Turkey && ...   \n",
              "35207  webNLG  Turkey | leaderTitle | President_of_Turkey && ...   \n",
              "35208  webNLG  Turkey | leaderTitle | President_of_Turkey && ...   \n",
              "35209  webNLG  Turkey | leaderTitle | President_of_Turkey && ...   \n",
              "\n",
              "                                             target_text  \n",
              "0      Architect John Madin, designed 103 Colmore Row...  \n",
              "1      John Madin designed 103 Colmore Row, Birmingha...  \n",
              "2      103 Colmore Row located in Birmingham, England...  \n",
              "3      103 Colmore Row, located at Colmore Row, was d...  \n",
              "4      John Madin is the architect of 103 Colmore Row...  \n",
              "...                                                  ...  \n",
              "35205  The Leader Of Turkey (official title President...  \n",
              "35206  The Turkish leader (official title President o...  \n",
              "35207  Turkey's leader is Ahmet Davutoglu, who is the...  \n",
              "35208  The bronze Ataturk monument is located in Turk...  \n",
              "35209  President Ahmet Davutoglu is the leader of Tur...  \n",
              "\n",
              "[35210 rows x 3 columns]>"
            ]
          },
          "metadata": {},
          "execution_count": 5
        }
      ]
    },
    {
      "cell_type": "markdown",
      "source": [
        "End of the Part 1"
      ],
      "metadata": {
        "id": "i-MRHnQ4zs7a"
      }
    }
  ]
}