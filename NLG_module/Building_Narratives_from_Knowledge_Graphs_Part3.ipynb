{
  "nbformat": 4,
  "nbformat_minor": 0,
  "metadata": {
    "colab": {
      "name": "Building Narratives from Knowledge Graphs Part3.ipynb",
      "provenance": [],
      "collapsed_sections": []
    },
    "kernelspec": {
      "name": "python3",
      "display_name": "Python 3"
    },
    "language_info": {
      "name": "python"
    },
    "accelerator": "GPU",
    "widgets": {
      "application/vnd.jupyter.widget-state+json": {
        "a43ec3e52c5a4935b089b7323ac3bfd4": {
          "model_module": "@jupyter-widgets/controls",
          "model_name": "HBoxModel",
          "model_module_version": "1.5.0",
          "state": {
            "_dom_classes": [],
            "_model_module": "@jupyter-widgets/controls",
            "_model_module_version": "1.5.0",
            "_model_name": "HBoxModel",
            "_view_count": null,
            "_view_module": "@jupyter-widgets/controls",
            "_view_module_version": "1.5.0",
            "_view_name": "HBoxView",
            "box_style": "",
            "children": [
              "IPY_MODEL_ece3a48a2c9b414eb668a076cba33258",
              "IPY_MODEL_044cc58595794cada8f3d2f01c7a8cb6",
              "IPY_MODEL_cfc8f9934d2944da8f81b2d2894614bf"
            ],
            "layout": "IPY_MODEL_63728db84c154ffdb1f77093613f9290"
          }
        },
        "ece3a48a2c9b414eb668a076cba33258": {
          "model_module": "@jupyter-widgets/controls",
          "model_name": "HTMLModel",
          "model_module_version": "1.5.0",
          "state": {
            "_dom_classes": [],
            "_model_module": "@jupyter-widgets/controls",
            "_model_module_version": "1.5.0",
            "_model_name": "HTMLModel",
            "_view_count": null,
            "_view_module": "@jupyter-widgets/controls",
            "_view_module_version": "1.5.0",
            "_view_name": "HTMLView",
            "description": "",
            "description_tooltip": null,
            "layout": "IPY_MODEL_e8e3b4031bde463da22599f24ed354e9",
            "placeholder": "​",
            "style": "IPY_MODEL_6928647414a547abaf9f00c4c0466567",
            "value": "Downloading: 100%"
          }
        },
        "044cc58595794cada8f3d2f01c7a8cb6": {
          "model_module": "@jupyter-widgets/controls",
          "model_name": "FloatProgressModel",
          "model_module_version": "1.5.0",
          "state": {
            "_dom_classes": [],
            "_model_module": "@jupyter-widgets/controls",
            "_model_module_version": "1.5.0",
            "_model_name": "FloatProgressModel",
            "_view_count": null,
            "_view_module": "@jupyter-widgets/controls",
            "_view_module_version": "1.5.0",
            "_view_name": "ProgressView",
            "bar_style": "success",
            "description": "",
            "description_tooltip": null,
            "layout": "IPY_MODEL_27de97e2046e439faeaf4309a0cfe532",
            "max": 791656,
            "min": 0,
            "orientation": "horizontal",
            "style": "IPY_MODEL_95a57d87c0964413a083c906ba57e9d8",
            "value": 791656
          }
        },
        "cfc8f9934d2944da8f81b2d2894614bf": {
          "model_module": "@jupyter-widgets/controls",
          "model_name": "HTMLModel",
          "model_module_version": "1.5.0",
          "state": {
            "_dom_classes": [],
            "_model_module": "@jupyter-widgets/controls",
            "_model_module_version": "1.5.0",
            "_model_name": "HTMLModel",
            "_view_count": null,
            "_view_module": "@jupyter-widgets/controls",
            "_view_module_version": "1.5.0",
            "_view_name": "HTMLView",
            "description": "",
            "description_tooltip": null,
            "layout": "IPY_MODEL_3fa0b7d3940943a79e06a4623f36c3a6",
            "placeholder": "​",
            "style": "IPY_MODEL_8e383034b162488b9403e78d411c45bb",
            "value": " 773k/773k [00:01&lt;00:00, 1.13MB/s]"
          }
        },
        "63728db84c154ffdb1f77093613f9290": {
          "model_module": "@jupyter-widgets/base",
          "model_name": "LayoutModel",
          "model_module_version": "1.2.0",
          "state": {
            "_model_module": "@jupyter-widgets/base",
            "_model_module_version": "1.2.0",
            "_model_name": "LayoutModel",
            "_view_count": null,
            "_view_module": "@jupyter-widgets/base",
            "_view_module_version": "1.2.0",
            "_view_name": "LayoutView",
            "align_content": null,
            "align_items": null,
            "align_self": null,
            "border": null,
            "bottom": null,
            "display": null,
            "flex": null,
            "flex_flow": null,
            "grid_area": null,
            "grid_auto_columns": null,
            "grid_auto_flow": null,
            "grid_auto_rows": null,
            "grid_column": null,
            "grid_gap": null,
            "grid_row": null,
            "grid_template_areas": null,
            "grid_template_columns": null,
            "grid_template_rows": null,
            "height": null,
            "justify_content": null,
            "justify_items": null,
            "left": null,
            "margin": null,
            "max_height": null,
            "max_width": null,
            "min_height": null,
            "min_width": null,
            "object_fit": null,
            "object_position": null,
            "order": null,
            "overflow": null,
            "overflow_x": null,
            "overflow_y": null,
            "padding": null,
            "right": null,
            "top": null,
            "visibility": null,
            "width": null
          }
        },
        "e8e3b4031bde463da22599f24ed354e9": {
          "model_module": "@jupyter-widgets/base",
          "model_name": "LayoutModel",
          "model_module_version": "1.2.0",
          "state": {
            "_model_module": "@jupyter-widgets/base",
            "_model_module_version": "1.2.0",
            "_model_name": "LayoutModel",
            "_view_count": null,
            "_view_module": "@jupyter-widgets/base",
            "_view_module_version": "1.2.0",
            "_view_name": "LayoutView",
            "align_content": null,
            "align_items": null,
            "align_self": null,
            "border": null,
            "bottom": null,
            "display": null,
            "flex": null,
            "flex_flow": null,
            "grid_area": null,
            "grid_auto_columns": null,
            "grid_auto_flow": null,
            "grid_auto_rows": null,
            "grid_column": null,
            "grid_gap": null,
            "grid_row": null,
            "grid_template_areas": null,
            "grid_template_columns": null,
            "grid_template_rows": null,
            "height": null,
            "justify_content": null,
            "justify_items": null,
            "left": null,
            "margin": null,
            "max_height": null,
            "max_width": null,
            "min_height": null,
            "min_width": null,
            "object_fit": null,
            "object_position": null,
            "order": null,
            "overflow": null,
            "overflow_x": null,
            "overflow_y": null,
            "padding": null,
            "right": null,
            "top": null,
            "visibility": null,
            "width": null
          }
        },
        "6928647414a547abaf9f00c4c0466567": {
          "model_module": "@jupyter-widgets/controls",
          "model_name": "DescriptionStyleModel",
          "model_module_version": "1.5.0",
          "state": {
            "_model_module": "@jupyter-widgets/controls",
            "_model_module_version": "1.5.0",
            "_model_name": "DescriptionStyleModel",
            "_view_count": null,
            "_view_module": "@jupyter-widgets/base",
            "_view_module_version": "1.2.0",
            "_view_name": "StyleView",
            "description_width": ""
          }
        },
        "27de97e2046e439faeaf4309a0cfe532": {
          "model_module": "@jupyter-widgets/base",
          "model_name": "LayoutModel",
          "model_module_version": "1.2.0",
          "state": {
            "_model_module": "@jupyter-widgets/base",
            "_model_module_version": "1.2.0",
            "_model_name": "LayoutModel",
            "_view_count": null,
            "_view_module": "@jupyter-widgets/base",
            "_view_module_version": "1.2.0",
            "_view_name": "LayoutView",
            "align_content": null,
            "align_items": null,
            "align_self": null,
            "border": null,
            "bottom": null,
            "display": null,
            "flex": null,
            "flex_flow": null,
            "grid_area": null,
            "grid_auto_columns": null,
            "grid_auto_flow": null,
            "grid_auto_rows": null,
            "grid_column": null,
            "grid_gap": null,
            "grid_row": null,
            "grid_template_areas": null,
            "grid_template_columns": null,
            "grid_template_rows": null,
            "height": null,
            "justify_content": null,
            "justify_items": null,
            "left": null,
            "margin": null,
            "max_height": null,
            "max_width": null,
            "min_height": null,
            "min_width": null,
            "object_fit": null,
            "object_position": null,
            "order": null,
            "overflow": null,
            "overflow_x": null,
            "overflow_y": null,
            "padding": null,
            "right": null,
            "top": null,
            "visibility": null,
            "width": null
          }
        },
        "95a57d87c0964413a083c906ba57e9d8": {
          "model_module": "@jupyter-widgets/controls",
          "model_name": "ProgressStyleModel",
          "model_module_version": "1.5.0",
          "state": {
            "_model_module": "@jupyter-widgets/controls",
            "_model_module_version": "1.5.0",
            "_model_name": "ProgressStyleModel",
            "_view_count": null,
            "_view_module": "@jupyter-widgets/base",
            "_view_module_version": "1.2.0",
            "_view_name": "StyleView",
            "bar_color": null,
            "description_width": ""
          }
        },
        "3fa0b7d3940943a79e06a4623f36c3a6": {
          "model_module": "@jupyter-widgets/base",
          "model_name": "LayoutModel",
          "model_module_version": "1.2.0",
          "state": {
            "_model_module": "@jupyter-widgets/base",
            "_model_module_version": "1.2.0",
            "_model_name": "LayoutModel",
            "_view_count": null,
            "_view_module": "@jupyter-widgets/base",
            "_view_module_version": "1.2.0",
            "_view_name": "LayoutView",
            "align_content": null,
            "align_items": null,
            "align_self": null,
            "border": null,
            "bottom": null,
            "display": null,
            "flex": null,
            "flex_flow": null,
            "grid_area": null,
            "grid_auto_columns": null,
            "grid_auto_flow": null,
            "grid_auto_rows": null,
            "grid_column": null,
            "grid_gap": null,
            "grid_row": null,
            "grid_template_areas": null,
            "grid_template_columns": null,
            "grid_template_rows": null,
            "height": null,
            "justify_content": null,
            "justify_items": null,
            "left": null,
            "margin": null,
            "max_height": null,
            "max_width": null,
            "min_height": null,
            "min_width": null,
            "object_fit": null,
            "object_position": null,
            "order": null,
            "overflow": null,
            "overflow_x": null,
            "overflow_y": null,
            "padding": null,
            "right": null,
            "top": null,
            "visibility": null,
            "width": null
          }
        },
        "8e383034b162488b9403e78d411c45bb": {
          "model_module": "@jupyter-widgets/controls",
          "model_name": "DescriptionStyleModel",
          "model_module_version": "1.5.0",
          "state": {
            "_model_module": "@jupyter-widgets/controls",
            "_model_module_version": "1.5.0",
            "_model_name": "DescriptionStyleModel",
            "_view_count": null,
            "_view_module": "@jupyter-widgets/base",
            "_view_module_version": "1.2.0",
            "_view_name": "StyleView",
            "description_width": ""
          }
        },
        "b133944e80fd4a799ff8ab3a8be6c3d3": {
          "model_module": "@jupyter-widgets/controls",
          "model_name": "HBoxModel",
          "model_module_version": "1.5.0",
          "state": {
            "_dom_classes": [],
            "_model_module": "@jupyter-widgets/controls",
            "_model_module_version": "1.5.0",
            "_model_name": "HBoxModel",
            "_view_count": null,
            "_view_module": "@jupyter-widgets/controls",
            "_view_module_version": "1.5.0",
            "_view_name": "HBoxView",
            "box_style": "",
            "children": [
              "IPY_MODEL_83cd511d7d06427584322d3f6c512cae",
              "IPY_MODEL_776a2f921982492592f3a9c2cc73ffb2",
              "IPY_MODEL_f7312b4839784d6384a6a603dd9ed66a"
            ],
            "layout": "IPY_MODEL_ec2d0c1cf3ce412ab40d72081748ee49"
          }
        },
        "83cd511d7d06427584322d3f6c512cae": {
          "model_module": "@jupyter-widgets/controls",
          "model_name": "HTMLModel",
          "model_module_version": "1.5.0",
          "state": {
            "_dom_classes": [],
            "_model_module": "@jupyter-widgets/controls",
            "_model_module_version": "1.5.0",
            "_model_name": "HTMLModel",
            "_view_count": null,
            "_view_module": "@jupyter-widgets/controls",
            "_view_module_version": "1.5.0",
            "_view_name": "HTMLView",
            "description": "",
            "description_tooltip": null,
            "layout": "IPY_MODEL_7d409d89eb6442fda4273a195fab3a1b",
            "placeholder": "​",
            "style": "IPY_MODEL_87e94f38ab8c4feaa3c6fac970243a86",
            "value": "Downloading: 100%"
          }
        },
        "776a2f921982492592f3a9c2cc73ffb2": {
          "model_module": "@jupyter-widgets/controls",
          "model_name": "FloatProgressModel",
          "model_module_version": "1.5.0",
          "state": {
            "_dom_classes": [],
            "_model_module": "@jupyter-widgets/controls",
            "_model_module_version": "1.5.0",
            "_model_name": "FloatProgressModel",
            "_view_count": null,
            "_view_module": "@jupyter-widgets/controls",
            "_view_module_version": "1.5.0",
            "_view_name": "ProgressView",
            "bar_style": "success",
            "description": "",
            "description_tooltip": null,
            "layout": "IPY_MODEL_798509b54aac46de829976e6ca6287d3",
            "max": 1199,
            "min": 0,
            "orientation": "horizontal",
            "style": "IPY_MODEL_3dc21a56d79d47b8b4eaed85d4682fd2",
            "value": 1199
          }
        },
        "f7312b4839784d6384a6a603dd9ed66a": {
          "model_module": "@jupyter-widgets/controls",
          "model_name": "HTMLModel",
          "model_module_version": "1.5.0",
          "state": {
            "_dom_classes": [],
            "_model_module": "@jupyter-widgets/controls",
            "_model_module_version": "1.5.0",
            "_model_name": "HTMLModel",
            "_view_count": null,
            "_view_module": "@jupyter-widgets/controls",
            "_view_module_version": "1.5.0",
            "_view_name": "HTMLView",
            "description": "",
            "description_tooltip": null,
            "layout": "IPY_MODEL_e50ef64922fb411980fff3096f7eeb53",
            "placeholder": "​",
            "style": "IPY_MODEL_897043dcc360417c91c0459515e99e8c",
            "value": " 1.17k/1.17k [00:00&lt;00:00, 31.6kB/s]"
          }
        },
        "ec2d0c1cf3ce412ab40d72081748ee49": {
          "model_module": "@jupyter-widgets/base",
          "model_name": "LayoutModel",
          "model_module_version": "1.2.0",
          "state": {
            "_model_module": "@jupyter-widgets/base",
            "_model_module_version": "1.2.0",
            "_model_name": "LayoutModel",
            "_view_count": null,
            "_view_module": "@jupyter-widgets/base",
            "_view_module_version": "1.2.0",
            "_view_name": "LayoutView",
            "align_content": null,
            "align_items": null,
            "align_self": null,
            "border": null,
            "bottom": null,
            "display": null,
            "flex": null,
            "flex_flow": null,
            "grid_area": null,
            "grid_auto_columns": null,
            "grid_auto_flow": null,
            "grid_auto_rows": null,
            "grid_column": null,
            "grid_gap": null,
            "grid_row": null,
            "grid_template_areas": null,
            "grid_template_columns": null,
            "grid_template_rows": null,
            "height": null,
            "justify_content": null,
            "justify_items": null,
            "left": null,
            "margin": null,
            "max_height": null,
            "max_width": null,
            "min_height": null,
            "min_width": null,
            "object_fit": null,
            "object_position": null,
            "order": null,
            "overflow": null,
            "overflow_x": null,
            "overflow_y": null,
            "padding": null,
            "right": null,
            "top": null,
            "visibility": null,
            "width": null
          }
        },
        "7d409d89eb6442fda4273a195fab3a1b": {
          "model_module": "@jupyter-widgets/base",
          "model_name": "LayoutModel",
          "model_module_version": "1.2.0",
          "state": {
            "_model_module": "@jupyter-widgets/base",
            "_model_module_version": "1.2.0",
            "_model_name": "LayoutModel",
            "_view_count": null,
            "_view_module": "@jupyter-widgets/base",
            "_view_module_version": "1.2.0",
            "_view_name": "LayoutView",
            "align_content": null,
            "align_items": null,
            "align_self": null,
            "border": null,
            "bottom": null,
            "display": null,
            "flex": null,
            "flex_flow": null,
            "grid_area": null,
            "grid_auto_columns": null,
            "grid_auto_flow": null,
            "grid_auto_rows": null,
            "grid_column": null,
            "grid_gap": null,
            "grid_row": null,
            "grid_template_areas": null,
            "grid_template_columns": null,
            "grid_template_rows": null,
            "height": null,
            "justify_content": null,
            "justify_items": null,
            "left": null,
            "margin": null,
            "max_height": null,
            "max_width": null,
            "min_height": null,
            "min_width": null,
            "object_fit": null,
            "object_position": null,
            "order": null,
            "overflow": null,
            "overflow_x": null,
            "overflow_y": null,
            "padding": null,
            "right": null,
            "top": null,
            "visibility": null,
            "width": null
          }
        },
        "87e94f38ab8c4feaa3c6fac970243a86": {
          "model_module": "@jupyter-widgets/controls",
          "model_name": "DescriptionStyleModel",
          "model_module_version": "1.5.0",
          "state": {
            "_model_module": "@jupyter-widgets/controls",
            "_model_module_version": "1.5.0",
            "_model_name": "DescriptionStyleModel",
            "_view_count": null,
            "_view_module": "@jupyter-widgets/base",
            "_view_module_version": "1.2.0",
            "_view_name": "StyleView",
            "description_width": ""
          }
        },
        "798509b54aac46de829976e6ca6287d3": {
          "model_module": "@jupyter-widgets/base",
          "model_name": "LayoutModel",
          "model_module_version": "1.2.0",
          "state": {
            "_model_module": "@jupyter-widgets/base",
            "_model_module_version": "1.2.0",
            "_model_name": "LayoutModel",
            "_view_count": null,
            "_view_module": "@jupyter-widgets/base",
            "_view_module_version": "1.2.0",
            "_view_name": "LayoutView",
            "align_content": null,
            "align_items": null,
            "align_self": null,
            "border": null,
            "bottom": null,
            "display": null,
            "flex": null,
            "flex_flow": null,
            "grid_area": null,
            "grid_auto_columns": null,
            "grid_auto_flow": null,
            "grid_auto_rows": null,
            "grid_column": null,
            "grid_gap": null,
            "grid_row": null,
            "grid_template_areas": null,
            "grid_template_columns": null,
            "grid_template_rows": null,
            "height": null,
            "justify_content": null,
            "justify_items": null,
            "left": null,
            "margin": null,
            "max_height": null,
            "max_width": null,
            "min_height": null,
            "min_width": null,
            "object_fit": null,
            "object_position": null,
            "order": null,
            "overflow": null,
            "overflow_x": null,
            "overflow_y": null,
            "padding": null,
            "right": null,
            "top": null,
            "visibility": null,
            "width": null
          }
        },
        "3dc21a56d79d47b8b4eaed85d4682fd2": {
          "model_module": "@jupyter-widgets/controls",
          "model_name": "ProgressStyleModel",
          "model_module_version": "1.5.0",
          "state": {
            "_model_module": "@jupyter-widgets/controls",
            "_model_module_version": "1.5.0",
            "_model_name": "ProgressStyleModel",
            "_view_count": null,
            "_view_module": "@jupyter-widgets/base",
            "_view_module_version": "1.2.0",
            "_view_name": "StyleView",
            "bar_color": null,
            "description_width": ""
          }
        },
        "e50ef64922fb411980fff3096f7eeb53": {
          "model_module": "@jupyter-widgets/base",
          "model_name": "LayoutModel",
          "model_module_version": "1.2.0",
          "state": {
            "_model_module": "@jupyter-widgets/base",
            "_model_module_version": "1.2.0",
            "_model_name": "LayoutModel",
            "_view_count": null,
            "_view_module": "@jupyter-widgets/base",
            "_view_module_version": "1.2.0",
            "_view_name": "LayoutView",
            "align_content": null,
            "align_items": null,
            "align_self": null,
            "border": null,
            "bottom": null,
            "display": null,
            "flex": null,
            "flex_flow": null,
            "grid_area": null,
            "grid_auto_columns": null,
            "grid_auto_flow": null,
            "grid_auto_rows": null,
            "grid_column": null,
            "grid_gap": null,
            "grid_row": null,
            "grid_template_areas": null,
            "grid_template_columns": null,
            "grid_template_rows": null,
            "height": null,
            "justify_content": null,
            "justify_items": null,
            "left": null,
            "margin": null,
            "max_height": null,
            "max_width": null,
            "min_height": null,
            "min_width": null,
            "object_fit": null,
            "object_position": null,
            "order": null,
            "overflow": null,
            "overflow_x": null,
            "overflow_y": null,
            "padding": null,
            "right": null,
            "top": null,
            "visibility": null,
            "width": null
          }
        },
        "897043dcc360417c91c0459515e99e8c": {
          "model_module": "@jupyter-widgets/controls",
          "model_name": "DescriptionStyleModel",
          "model_module_version": "1.5.0",
          "state": {
            "_model_module": "@jupyter-widgets/controls",
            "_model_module_version": "1.5.0",
            "_model_name": "DescriptionStyleModel",
            "_view_count": null,
            "_view_module": "@jupyter-widgets/base",
            "_view_module_version": "1.2.0",
            "_view_name": "StyleView",
            "description_width": ""
          }
        }
      }
    }
  },
  "cells": [
    {
      "cell_type": "markdown",
      "source": [
        "#KRW Group Project: Building Narratives from Knowledge Graphs\n",
        "##Group number: P5-2\n",
        "###Group members: Fina Polat, Hein Kolk, Jelle Wassenaar, Siddharth Chaubal\n",
        "\n",
        "This is the last notebook of a series of 3.\n",
        "\n",
        "Research goal: We are a newspaper agency and want to develop a system to create articles semi-automatically. The goal is to create a newspaper story using information from existing KGs, and to help readers better understanding the content/setting of the story (e.g. visualise a timeline to understand big events and actors in a political or historical event, summarising a movie or the life of someone, etc.).\n",
        "\n",
        "We are going to generate a gossip story using T5 language model (LM). In order to do that we are going to:\n",
        "* pre-process WebNLG Dataset - Part 1\n",
        "* fine-tune T5 language model with WebNLG Dataset. - Part 2\n",
        "* automatically generate stories (template + automatically generated text) - Part 3\n",
        "\n",
        "The WebNLG data (Gardent el al., 2017) was created to promote the development (i) of RDF verbalisers and (ii) of microplanners able to handle a wide range of linguistic constructions.\n",
        "\n",
        "T5 Language Model : Colin Raffel et al. “Exploring the limits of transfer learning with a unified\n",
        "text-to-text transformer”. In: arXiv preprint arXiv:1910.10683 (2019).\n",
        "\n",
        "The code in this notebook is adapted from https://github.com/MathewAlexander/T5_nlg"
      ],
      "metadata": {
        "id": "cOdHd9gRpBmf"
      }
    },
    {
      "cell_type": "code",
      "source": [
        "!pip install transformers\n",
        "!pip install sentencepiece"
      ],
      "metadata": {
        "colab": {
          "base_uri": "https://localhost:8080/"
        },
        "id": "2VI1Qylf2bF3",
        "outputId": "4893f260-28b8-46e6-f4d0-441b1aaf202e"
      },
      "execution_count": null,
      "outputs": [
        {
          "output_type": "stream",
          "name": "stdout",
          "text": [
            "Collecting transformers\n",
            "  Downloading transformers-4.18.0-py3-none-any.whl (4.0 MB)\n",
            "\u001b[K     |████████████████████████████████| 4.0 MB 4.2 MB/s \n",
            "\u001b[?25hRequirement already satisfied: filelock in /usr/local/lib/python3.7/dist-packages (from transformers) (3.6.0)\n",
            "Collecting huggingface-hub<1.0,>=0.1.0\n",
            "  Downloading huggingface_hub-0.5.1-py3-none-any.whl (77 kB)\n",
            "\u001b[K     |████████████████████████████████| 77 kB 6.0 MB/s \n",
            "\u001b[?25hCollecting sacremoses\n",
            "  Downloading sacremoses-0.0.49-py3-none-any.whl (895 kB)\n",
            "\u001b[K     |████████████████████████████████| 895 kB 42.0 MB/s \n",
            "\u001b[?25hRequirement already satisfied: numpy>=1.17 in /usr/local/lib/python3.7/dist-packages (from transformers) (1.21.5)\n",
            "Requirement already satisfied: importlib-metadata in /usr/local/lib/python3.7/dist-packages (from transformers) (4.11.3)\n",
            "Collecting tokenizers!=0.11.3,<0.13,>=0.11.1\n",
            "  Downloading tokenizers-0.12.1-cp37-cp37m-manylinux_2_12_x86_64.manylinux2010_x86_64.whl (6.6 MB)\n",
            "\u001b[K     |████████████████████████████████| 6.6 MB 26.2 MB/s \n",
            "\u001b[?25hRequirement already satisfied: requests in /usr/local/lib/python3.7/dist-packages (from transformers) (2.23.0)\n",
            "Requirement already satisfied: tqdm>=4.27 in /usr/local/lib/python3.7/dist-packages (from transformers) (4.64.0)\n",
            "Requirement already satisfied: regex!=2019.12.17 in /usr/local/lib/python3.7/dist-packages (from transformers) (2019.12.20)\n",
            "Requirement already satisfied: packaging>=20.0 in /usr/local/lib/python3.7/dist-packages (from transformers) (21.3)\n",
            "Collecting pyyaml>=5.1\n",
            "  Downloading PyYAML-6.0-cp37-cp37m-manylinux_2_5_x86_64.manylinux1_x86_64.manylinux_2_12_x86_64.manylinux2010_x86_64.whl (596 kB)\n",
            "\u001b[K     |████████████████████████████████| 596 kB 38.8 MB/s \n",
            "\u001b[?25hRequirement already satisfied: typing-extensions>=3.7.4.3 in /usr/local/lib/python3.7/dist-packages (from huggingface-hub<1.0,>=0.1.0->transformers) (4.1.1)\n",
            "Requirement already satisfied: pyparsing!=3.0.5,>=2.0.2 in /usr/local/lib/python3.7/dist-packages (from packaging>=20.0->transformers) (3.0.8)\n",
            "Requirement already satisfied: zipp>=0.5 in /usr/local/lib/python3.7/dist-packages (from importlib-metadata->transformers) (3.8.0)\n",
            "Requirement already satisfied: idna<3,>=2.5 in /usr/local/lib/python3.7/dist-packages (from requests->transformers) (2.10)\n",
            "Requirement already satisfied: urllib3!=1.25.0,!=1.25.1,<1.26,>=1.21.1 in /usr/local/lib/python3.7/dist-packages (from requests->transformers) (1.24.3)\n",
            "Requirement already satisfied: chardet<4,>=3.0.2 in /usr/local/lib/python3.7/dist-packages (from requests->transformers) (3.0.4)\n",
            "Requirement already satisfied: certifi>=2017.4.17 in /usr/local/lib/python3.7/dist-packages (from requests->transformers) (2021.10.8)\n",
            "Requirement already satisfied: six in /usr/local/lib/python3.7/dist-packages (from sacremoses->transformers) (1.15.0)\n",
            "Requirement already satisfied: joblib in /usr/local/lib/python3.7/dist-packages (from sacremoses->transformers) (1.1.0)\n",
            "Requirement already satisfied: click in /usr/local/lib/python3.7/dist-packages (from sacremoses->transformers) (7.1.2)\n",
            "Installing collected packages: pyyaml, tokenizers, sacremoses, huggingface-hub, transformers\n",
            "  Attempting uninstall: pyyaml\n",
            "    Found existing installation: PyYAML 3.13\n",
            "    Uninstalling PyYAML-3.13:\n",
            "      Successfully uninstalled PyYAML-3.13\n",
            "Successfully installed huggingface-hub-0.5.1 pyyaml-6.0 sacremoses-0.0.49 tokenizers-0.12.1 transformers-4.18.0\n",
            "Collecting sentencepiece\n",
            "  Downloading sentencepiece-0.1.96-cp37-cp37m-manylinux_2_17_x86_64.manylinux2014_x86_64.whl (1.2 MB)\n",
            "\u001b[K     |████████████████████████████████| 1.2 MB 4.1 MB/s \n",
            "\u001b[?25hInstalling collected packages: sentencepiece\n",
            "Successfully installed sentencepiece-0.1.96\n"
          ]
        }
      ]
    },
    {
      "cell_type": "code",
      "source": [
        "### import the required libraries ###\n",
        "\n",
        "import pandas as pd\n",
        "import numpy as np\n",
        "from google.colab import files\n",
        "from google.colab import drive\n",
        "import os\n",
        "import torch\n",
        "from transformers import T5Tokenizer, T5ForConditionalGeneration\n",
        "import time\n",
        "import warnings\n",
        "warnings.filterwarnings('ignore')"
      ],
      "metadata": {
        "id": "oV6sd7ws2bZs"
      },
      "execution_count": null,
      "outputs": []
    },
    {
      "cell_type": "code",
      "source": [
        "MOUNTPOINT = '/content/gdrive'\n",
        "DATADIR = os.path.join(MOUNTPOINT, 'My Drive', 'KRW_P5-2')\n",
        "drive.mount(MOUNTPOINT)\n",
        "print(DATADIR)"
      ],
      "metadata": {
        "colab": {
          "base_uri": "https://localhost:8080/"
        },
        "id": "3WtMjJcuAoBW",
        "outputId": "5cd9a919-89da-4abc-e2eb-5be2c80eb764"
      },
      "execution_count": null,
      "outputs": [
        {
          "output_type": "stream",
          "name": "stdout",
          "text": [
            "Mounted at /content/gdrive\n",
            "/content/gdrive/My Drive/KRW_P5-2\n"
          ]
        }
      ]
    },
    {
      "cell_type": "code",
      "source": [
        "#Loading the trained model from the path\n",
        "\n",
        "model = T5ForConditionalGeneration.from_pretrained('/content/gdrive/My Drive/KRW_P5-2/pytoch_model.bin', \n",
        "                                                   return_dict=True,\n",
        "                                                   config='/content/gdrive/My Drive/KRW_P5-2/t5-base-config.json')"
      ],
      "metadata": {
        "id": "HwmOfLIr2bvL"
      },
      "execution_count": null,
      "outputs": []
    },
    {
      "cell_type": "code",
      "execution_count": null,
      "metadata": {
        "colab": {
          "base_uri": "https://localhost:8080/",
          "height": 81,
          "referenced_widgets": [
            "a43ec3e52c5a4935b089b7323ac3bfd4",
            "ece3a48a2c9b414eb668a076cba33258",
            "044cc58595794cada8f3d2f01c7a8cb6",
            "cfc8f9934d2944da8f81b2d2894614bf",
            "63728db84c154ffdb1f77093613f9290",
            "e8e3b4031bde463da22599f24ed354e9",
            "6928647414a547abaf9f00c4c0466567",
            "27de97e2046e439faeaf4309a0cfe532",
            "95a57d87c0964413a083c906ba57e9d8",
            "3fa0b7d3940943a79e06a4623f36c3a6",
            "8e383034b162488b9403e78d411c45bb",
            "b133944e80fd4a799ff8ab3a8be6c3d3",
            "83cd511d7d06427584322d3f6c512cae",
            "776a2f921982492592f3a9c2cc73ffb2",
            "f7312b4839784d6384a6a603dd9ed66a",
            "ec2d0c1cf3ce412ab40d72081748ee49",
            "7d409d89eb6442fda4273a195fab3a1b",
            "87e94f38ab8c4feaa3c6fac970243a86",
            "798509b54aac46de829976e6ca6287d3",
            "3dc21a56d79d47b8b4eaed85d4682fd2",
            "e50ef64922fb411980fff3096f7eeb53",
            "897043dcc360417c91c0459515e99e8c"
          ]
        },
        "id": "3lgjA17Bo9Ve",
        "outputId": "b5f74c8f-303c-4eb0-bc16-4f4810d7ae64"
      },
      "outputs": [
        {
          "output_type": "display_data",
          "data": {
            "text/plain": [
              "Downloading:   0%|          | 0.00/773k [00:00<?, ?B/s]"
            ],
            "application/vnd.jupyter.widget-view+json": {
              "version_major": 2,
              "version_minor": 0,
              "model_id": "a43ec3e52c5a4935b089b7323ac3bfd4"
            }
          },
          "metadata": {}
        },
        {
          "output_type": "display_data",
          "data": {
            "text/plain": [
              "Downloading:   0%|          | 0.00/1.17k [00:00<?, ?B/s]"
            ],
            "application/vnd.jupyter.widget-view+json": {
              "version_major": 2,
              "version_minor": 0,
              "model_id": "b133944e80fd4a799ff8ab3a8be6c3d3"
            }
          },
          "metadata": {}
        }
      ],
      "source": [
        "tokenizer = T5Tokenizer.from_pretrained('t5-base')"
      ]
    },
    {
      "cell_type": "code",
      "source": [
        "#function to generate text\n",
        "\n",
        "def generate(text):\n",
        "  model.eval()\n",
        "  input_ids = tokenizer.encode(\"WebNLG:{} </s>\".format(text), return_tensors=\"pt\")  # Batch size 1\n",
        "  #input_ids.to(dev)\n",
        "  s = time.time()\n",
        "  outputs = model.generate(input_ids)\n",
        "  gen_text=tokenizer.decode(outputs[0]).replace('<pad>','').replace('</s>','')\n",
        "  elapsed = time.time() - s\n",
        "  #print('Generated in {} seconds'.format(str(elapsed)[:4]))\n",
        "\n",
        "  \n",
        "  return gen_text"
      ],
      "metadata": {
        "id": "xOytuePW23DM"
      },
      "execution_count": null,
      "outputs": []
    },
    {
      "cell_type": "markdown",
      "source": [
        "#Gossip Time: Let's generate a story!\n",
        "\n",
        "A gossip story consists of four sections:\n",
        "1. Introduction: Here we introduce the celebrities. \n",
        "2. Body paragraph 1: Information about the first celebrity.\n",
        "3. Body paragraph 2: Information about the second celebrity.\n",
        "4. Conclusion: concluding with a question."
      ],
      "metadata": {
        "id": "184RHzkz290V"
      }
    },
    {
      "cell_type": "markdown",
      "source": [
        "###Let's write our functions:"
      ],
      "metadata": {
        "id": "f3ofslDy7v2t"
      }
    },
    {
      "cell_type": "code",
      "source": [
        "#some text processing\n",
        "def remove_unwanted_chars(text):\n",
        "  remove_list = [\"[\", \"]\", \")\", \"(\", \"'\"]\n",
        "  for char in text:\n",
        "    if char in remove_list:\n",
        "      text = text.replace(char, \"\")\n",
        "  return text"
      ],
      "metadata": {
        "id": "IVJV4IdZ4it1"
      },
      "execution_count": null,
      "outputs": []
    },
    {
      "cell_type": "code",
      "source": [
        "def get_entity_names(ent1, ent2):\n",
        "    ent1 = ent1.replace(\"_\", \" \")\n",
        "    ent2 = ent2.replace(\"_\", \" \")\n",
        "    return ent1, ent2"
      ],
      "metadata": {
        "id": "TPiVhzxW7gxX"
      },
      "execution_count": null,
      "outputs": []
    },
    {
      "cell_type": "code",
      "source": [
        "def prepare_triples(triples):\n",
        "    triple_list = triples.split(\",\")\n",
        "    prepared_triples = []\n",
        "    for line in triple_list:\n",
        "        line = remove_unwanted_chars(line)\n",
        "        line = line.split(\",\")\n",
        "        for triple in line:\n",
        "            prepared_triples.append(triple)\n",
        "            #print(f'triple: {triple}')\n",
        "    return prepared_triples\n"
      ],
      "metadata": {
        "id": "oVhIMfGx5OuY"
      },
      "execution_count": null,
      "outputs": []
    },
    {
      "cell_type": "code",
      "source": [
        "def write_a_story(filename, ent1, ent2, ent1_text, ent2_text):\n",
        "\n",
        "    with open(filename, \"w\") as f:\n",
        "        f.write(f\"According to our birds, there might be something going on between {ent1} and {ent2}. \\nSince they have recently been seen in touch quite a lot.\")\n",
        "        f.write(f\"\\nLet us give you some background about {ent1} and {ent2}:\")\n",
        "        f.write(\"\\n \")\n",
        "\n",
        "        f.write(f\"\\nLadies first! Let's start with {ent1}:\")\n",
        "        for sent1 in ent1_text:\n",
        "            f.write(f\"\\n{sent1}\")\n",
        "        f.write(\"\\n \")\n",
        "        \n",
        "        f.write(f\"\\n{ent2}:\")\n",
        "        for sent2 in ent2_text:\n",
        "            f.write(f\"\\n{sent2}\")\n",
        "        f.write(\"\\n \")\n",
        "\n",
        "        f.write(f\"\\nSo, what do you think? Are the rumours true about {ent1} and {ent2}?\")"
      ],
      "metadata": {
        "id": "yg6bOqzE5eNJ"
      },
      "execution_count": null,
      "outputs": []
    },
    {
      "cell_type": "markdown",
      "source": [
        "###Read the data and start generating:"
      ],
      "metadata": {
        "id": "SYlBM5Ug72JF"
      }
    },
    {
      "cell_type": "code",
      "source": [
        "KB_df=pd.read_csv('/content/gdrive/My Drive/KRW_P5-2/data4stories.tsv', index_col=[0], sep=\"\\t\")\n",
        "KB_df = KB_df.fillna(value=np.nan)\n",
        "#Let's inspect the dataset:\n",
        "KB_df.head"
      ],
      "metadata": {
        "colab": {
          "base_uri": "https://localhost:8080/"
        },
        "id": "SKFqq6Tr8J3O",
        "outputId": "5a6af556-8ca2-4bfd-829b-adfeaad8cdbf"
      },
      "execution_count": null,
      "outputs": [
        {
          "output_type": "execute_result",
          "data": {
            "text/plain": [
              "<bound method NDFrame.head of               entity 1          entity 2  connected  \\\n",
              "1           Emma_Stone       Ram_Charan       False   \n",
              "2       Britney_Spears     Ranbir_Kapoor      False   \n",
              "3     Jennifer_Aniston     Harry_Knowles      False   \n",
              "4        Vicky_Kaushal       Phil_McGraw      False   \n",
              "5           Alia_Bhatt     Justin_Bieber      False   \n",
              "6   Scarlett_Johansson     Harry_Knowles       True   \n",
              "7    Jennifer_Lawrence     Justin_Bieber       True   \n",
              "8           Alia_Bhatt      Pawan_Kalyan       True   \n",
              "9     Jennifer_Aniston  Robert_Pattinson       True   \n",
              "10     Keira_Knightley    Bradley_Cooper       True   \n",
              "\n",
              "                                      Triple Entity 1  \\\n",
              "1   ['Emma Stone | birth place | Scottsdale, Arizo...   \n",
              "2   ['Britney Spears | has occupation | Singer', '...   \n",
              "3   ['Jennifer Aniston | had partner | Justin Ther...   \n",
              "4   ['Vicky Kaushal | birth date | 1988-05-16', 'V...   \n",
              "5   ['Alia Bhatt | birth date | 1993-03-15', 'Alia...   \n",
              "6   ['Scarlett Johansson | had Partner | Romain Da...   \n",
              "7   ['Jennifer Lawrence | had partner | Cooke Maro...   \n",
              "8   ['Alia Bhatt | has occupation | Actress, singe...   \n",
              "9   ['Jennifer Aniston | had Partner | Brad Pitt',...   \n",
              "10  ['Keira Knightley | birth date | 1985-03-26', ...   \n",
              "\n",
              "                                      Triple Entity 2  \n",
              "1   ['Ram Charan | birth date | 1985-03-27', 'Ram ...  \n",
              "2   ['Ranbir Kapoor | birth place | Mumbai', 'Ranb...  \n",
              "3   ['Harry Knowles | birth place | Austin, Texas'...  \n",
              "4   ['Phil McGraw | has occupation | author', 'Phi...  \n",
              "5   ['Justin Bieber | has occupation | Singer', 'J...  \n",
              "6   ['Harry Knowles | birth place | Austin, Texas'...  \n",
              "7   ['Justin Bieber | has occupation | Singer', 'J...  \n",
              "8   ['Pawan Kalyan | has occupation | director', '...  \n",
              "9   ['Robert Pattinson | has occupation | Actor', ...  \n",
              "10  ['Bradley Cooper | has occupation | Actor', 'B...  >"
            ]
          },
          "metadata": {},
          "execution_count": 20
        }
      ]
    },
    {
      "cell_type": "code",
      "source": [
        "entity1_list = KB_df[\"entity 1\"].tolist()\n",
        "entity2_list = KB_df[\"entity 2\"].tolist()\n",
        "entity1_triples = KB_df[\"Triple Entity 1\"].tolist()\n",
        "entity2_triples = KB_df[\"Triple Entity 2\"].tolist()"
      ],
      "metadata": {
        "id": "yLsJEQp467e7"
      },
      "execution_count": null,
      "outputs": []
    },
    {
      "cell_type": "code",
      "source": [
        "for ent1, ent2, triples1, triples2 in zip(entity1_list, entity2_list, entity1_triples, entity2_triples): \n",
        "  ent1_name, ent2_name = get_entity_names(ent1, ent2)\n",
        "  \n",
        "  prerared_trips1 = prepare_triples(triples1)\n",
        "  gen_text_list1 = []\n",
        "  for triple1 in prerared_trips1:\n",
        "    gen_text1 = generate(triple1)\n",
        "    gen_text_list1.append(gen_text1)\n",
        "\n",
        "  prerared_trips2 = prepare_triples(triples2)\n",
        "  gen_text_list2 = []  \n",
        "  for triple2 in prerared_trips2:\n",
        "    gen_text2 = generate(triple2)\n",
        "    gen_text_list2.append(gen_text2)\n",
        "\n",
        "  filename = f\"gossip_about{ent1}_{ent2}.txt\"\n",
        "  write_a_story(filename, ent1_name, ent2_name, gen_text_list1, gen_text_list2)\n",
        "  files.download(filename)"
      ],
      "metadata": {
        "colab": {
          "base_uri": "https://localhost:8080/",
          "height": 17
        },
        "id": "-ZLH4wwV6dVh",
        "outputId": "1730ec04-aa8e-45c1-c3bb-75a256e249b8"
      },
      "execution_count": null,
      "outputs": [
        {
          "output_type": "display_data",
          "data": {
            "text/plain": [
              "<IPython.core.display.Javascript object>"
            ],
            "application/javascript": [
              "\n",
              "    async function download(id, filename, size) {\n",
              "      if (!google.colab.kernel.accessAllowed) {\n",
              "        return;\n",
              "      }\n",
              "      const div = document.createElement('div');\n",
              "      const label = document.createElement('label');\n",
              "      label.textContent = `Downloading \"${filename}\": `;\n",
              "      div.appendChild(label);\n",
              "      const progress = document.createElement('progress');\n",
              "      progress.max = size;\n",
              "      div.appendChild(progress);\n",
              "      document.body.appendChild(div);\n",
              "\n",
              "      const buffers = [];\n",
              "      let downloaded = 0;\n",
              "\n",
              "      const channel = await google.colab.kernel.comms.open(id);\n",
              "      // Send a message to notify the kernel that we're ready.\n",
              "      channel.send({})\n",
              "\n",
              "      for await (const message of channel.messages) {\n",
              "        // Send a message to notify the kernel that we're ready.\n",
              "        channel.send({})\n",
              "        if (message.buffers) {\n",
              "          for (const buffer of message.buffers) {\n",
              "            buffers.push(buffer);\n",
              "            downloaded += buffer.byteLength;\n",
              "            progress.value = downloaded;\n",
              "          }\n",
              "        }\n",
              "      }\n",
              "      const blob = new Blob(buffers, {type: 'application/binary'});\n",
              "      const a = document.createElement('a');\n",
              "      a.href = window.URL.createObjectURL(blob);\n",
              "      a.download = filename;\n",
              "      div.appendChild(a);\n",
              "      a.click();\n",
              "      div.remove();\n",
              "    }\n",
              "  "
            ]
          },
          "metadata": {}
        },
        {
          "output_type": "display_data",
          "data": {
            "text/plain": [
              "<IPython.core.display.Javascript object>"
            ],
            "application/javascript": [
              "download(\"download_8e3e09c7-7242-4f23-82f1-815ebf5a9832\", \"gossip_aboutEmma_Stone_Ram_Charan .txt\", 877)"
            ]
          },
          "metadata": {}
        }
      ]
    },
    {
      "cell_type": "code",
      "source": [
        ""
      ],
      "metadata": {
        "id": "VBA-RFHr6GeX"
      },
      "execution_count": null,
      "outputs": []
    }
  ]
}